{
 "cells": [
  {
   "cell_type": "markdown",
   "id": "e6545223",
   "metadata": {},
   "source": [
    "# Scraping Misbar\n",
    "\n",
    "- the goal of this notebook is to scrape fact checked news related to sudan from a fact checking website called Misbar.\n",
    "- the urls for the required news are precolleced from the website using Instant Data Scraper extension."
   ]
  },
  {
   "cell_type": "markdown",
   "id": "23ccde47",
   "metadata": {},
   "source": [
    "## Imported libraries"
   ]
  },
  {
   "cell_type": "code",
   "execution_count": 2,
   "id": "09a1318b",
   "metadata": {},
   "outputs": [],
   "source": [
    "import pandas as pd\n",
    "from bs4 import BeautifulSoup\n",
    "import requests\n",
    "import time\n",
    "import numpy as np\n",
    "import json\n",
    "import re"
   ]
  },
  {
   "cell_type": "markdown",
   "id": "9b62f6a2",
   "metadata": {},
   "source": [
    "## Loading the file that contain news urls"
   ]
  },
  {
   "cell_type": "code",
   "execution_count": 22,
   "id": "b23f82f0",
   "metadata": {},
   "outputs": [
    {
     "name": "stdout",
     "output_type": "stream",
     "text": [
      "number of news: 63\n"
     ]
    },
    {
     "data": {
      "text/html": [
       "<div>\n",
       "<style scoped>\n",
       "    .dataframe tbody tr th:only-of-type {\n",
       "        vertical-align: middle;\n",
       "    }\n",
       "\n",
       "    .dataframe tbody tr th {\n",
       "        vertical-align: top;\n",
       "    }\n",
       "\n",
       "    .dataframe thead th {\n",
       "        text-align: right;\n",
       "    }\n",
       "</style>\n",
       "<table border=\"1\" class=\"dataframe\">\n",
       "  <thead>\n",
       "    <tr style=\"text-align: right;\">\n",
       "      <th></th>\n",
       "      <th>news_url</th>\n",
       "      <th>image_url</th>\n",
       "    </tr>\n",
       "  </thead>\n",
       "  <tbody>\n",
       "    <tr>\n",
       "      <th>0</th>\n",
       "      <td>https://www.misbar.com/factcheck/2025/08/28/%D...</td>\n",
       "      <td>https://assets.misbar.com/styles/large_425x240...</td>\n",
       "    </tr>\n",
       "    <tr>\n",
       "      <th>1</th>\n",
       "      <td>https://www.misbar.com/factcheck/2025/08/26/%D...</td>\n",
       "      <td>https://assets.misbar.com/styles/small_scale_1...</td>\n",
       "    </tr>\n",
       "    <tr>\n",
       "      <th>2</th>\n",
       "      <td>https://www.misbar.com/factcheck/2025/08/23/%D...</td>\n",
       "      <td>https://assets.misbar.com/styles/large_425x240...</td>\n",
       "    </tr>\n",
       "    <tr>\n",
       "      <th>3</th>\n",
       "      <td>https://www.misbar.com/factcheck/2025/08/19/%D...</td>\n",
       "      <td>https://assets.misbar.com/styles/small_scale_1...</td>\n",
       "    </tr>\n",
       "    <tr>\n",
       "      <th>4</th>\n",
       "      <td>https://www.misbar.com/factcheck/2025/08/07/%D...</td>\n",
       "      <td>https://assets.misbar.com/styles/large_425x240...</td>\n",
       "    </tr>\n",
       "  </tbody>\n",
       "</table>\n",
       "</div>"
      ],
      "text/plain": [
       "                                            news_url  \\\n",
       "0  https://www.misbar.com/factcheck/2025/08/28/%D...   \n",
       "1  https://www.misbar.com/factcheck/2025/08/26/%D...   \n",
       "2  https://www.misbar.com/factcheck/2025/08/23/%D...   \n",
       "3  https://www.misbar.com/factcheck/2025/08/19/%D...   \n",
       "4  https://www.misbar.com/factcheck/2025/08/07/%D...   \n",
       "\n",
       "                                           image_url  \n",
       "0  https://assets.misbar.com/styles/large_425x240...  \n",
       "1  https://assets.misbar.com/styles/small_scale_1...  \n",
       "2  https://assets.misbar.com/styles/large_425x240...  \n",
       "3  https://assets.misbar.com/styles/small_scale_1...  \n",
       "4  https://assets.misbar.com/styles/large_425x240...  "
      ]
     },
     "execution_count": 22,
     "metadata": {},
     "output_type": "execute_result"
    }
   ],
   "source": [
    "urls_df = pd.read_csv(\"misbar_urls.csv\")\n",
    "\n",
    "num_news = urls_df.shape[0]\n",
    "print(\"number of news:\",num_news)\n",
    "\n",
    "urls_df.head()"
   ]
  },
  {
   "cell_type": "markdown",
   "id": "c4429335",
   "metadata": {},
   "source": [
    "## asign an id number of each news"
   ]
  },
  {
   "cell_type": "code",
   "execution_count": 23,
   "id": "adf83235",
   "metadata": {},
   "outputs": [
    {
     "data": {
      "text/html": [
       "<div>\n",
       "<style scoped>\n",
       "    .dataframe tbody tr th:only-of-type {\n",
       "        vertical-align: middle;\n",
       "    }\n",
       "\n",
       "    .dataframe tbody tr th {\n",
       "        vertical-align: top;\n",
       "    }\n",
       "\n",
       "    .dataframe thead th {\n",
       "        text-align: right;\n",
       "    }\n",
       "</style>\n",
       "<table border=\"1\" class=\"dataframe\">\n",
       "  <thead>\n",
       "    <tr style=\"text-align: right;\">\n",
       "      <th></th>\n",
       "      <th>news_id</th>\n",
       "      <th>news_url</th>\n",
       "      <th>image_url</th>\n",
       "    </tr>\n",
       "  </thead>\n",
       "  <tbody>\n",
       "    <tr>\n",
       "      <th>0</th>\n",
       "      <td>1</td>\n",
       "      <td>https://www.misbar.com/factcheck/2025/08/28/%D...</td>\n",
       "      <td>https://assets.misbar.com/styles/large_425x240...</td>\n",
       "    </tr>\n",
       "    <tr>\n",
       "      <th>1</th>\n",
       "      <td>2</td>\n",
       "      <td>https://www.misbar.com/factcheck/2025/08/26/%D...</td>\n",
       "      <td>https://assets.misbar.com/styles/small_scale_1...</td>\n",
       "    </tr>\n",
       "    <tr>\n",
       "      <th>2</th>\n",
       "      <td>3</td>\n",
       "      <td>https://www.misbar.com/factcheck/2025/08/23/%D...</td>\n",
       "      <td>https://assets.misbar.com/styles/large_425x240...</td>\n",
       "    </tr>\n",
       "    <tr>\n",
       "      <th>3</th>\n",
       "      <td>4</td>\n",
       "      <td>https://www.misbar.com/factcheck/2025/08/19/%D...</td>\n",
       "      <td>https://assets.misbar.com/styles/small_scale_1...</td>\n",
       "    </tr>\n",
       "    <tr>\n",
       "      <th>4</th>\n",
       "      <td>5</td>\n",
       "      <td>https://www.misbar.com/factcheck/2025/08/07/%D...</td>\n",
       "      <td>https://assets.misbar.com/styles/large_425x240...</td>\n",
       "    </tr>\n",
       "  </tbody>\n",
       "</table>\n",
       "</div>"
      ],
      "text/plain": [
       "   news_id                                           news_url  \\\n",
       "0        1  https://www.misbar.com/factcheck/2025/08/28/%D...   \n",
       "1        2  https://www.misbar.com/factcheck/2025/08/26/%D...   \n",
       "2        3  https://www.misbar.com/factcheck/2025/08/23/%D...   \n",
       "3        4  https://www.misbar.com/factcheck/2025/08/19/%D...   \n",
       "4        5  https://www.misbar.com/factcheck/2025/08/07/%D...   \n",
       "\n",
       "                                           image_url  \n",
       "0  https://assets.misbar.com/styles/large_425x240...  \n",
       "1  https://assets.misbar.com/styles/small_scale_1...  \n",
       "2  https://assets.misbar.com/styles/large_425x240...  \n",
       "3  https://assets.misbar.com/styles/small_scale_1...  \n",
       "4  https://assets.misbar.com/styles/large_425x240...  "
      ]
     },
     "execution_count": 23,
     "metadata": {},
     "output_type": "execute_result"
    }
   ],
   "source": [
    "news_id = np.arange(1,num_news+1)\n",
    "urls_df['news_id'] = news_id\n",
    "#re-arange columns\n",
    "urls_df = urls_df[[\"news_id\",\"news_url\",\"image_url\"]]\n",
    "urls_df.head()"
   ]
  },
  {
   "cell_type": "code",
   "execution_count": 24,
   "id": "53f01e38",
   "metadata": {},
   "outputs": [],
   "source": [
    "# replace misbar_urls.csv file with the indexed one\n",
    "\n",
    "urls_df.to_csv(\"misbar_urls.csv\",index=False)"
   ]
  },
  {
   "cell_type": "markdown",
   "id": "e2cd2827",
   "metadata": {},
   "source": [
    "## Load the url file"
   ]
  },
  {
   "cell_type": "code",
   "execution_count": 3,
   "id": "695eff95",
   "metadata": {},
   "outputs": [],
   "source": [
    "urls_df = pd.read_csv(\"misbar_urls.csv\")"
   ]
  },
  {
   "cell_type": "markdown",
   "id": "46419b53",
   "metadata": {},
   "source": [
    "## Scraping Misbar"
   ]
  },
  {
   "cell_type": "markdown",
   "id": "ad90031d",
   "metadata": {},
   "source": [
    "Define a function that scrape a single news"
   ]
  },
  {
   "cell_type": "code",
   "execution_count": 14,
   "id": "c4c29412",
   "metadata": {},
   "outputs": [],
   "source": [
    "\n",
    "def scrape_news(news_id, url, error_log_file):\n",
    "    try:\n",
    "        html_text = requests.get(url).text\n",
    "        soup = BeautifulSoup(html_text, 'lxml')\n",
    "\n",
    "        news_info = {\n",
    "            'news_id': news_id,\n",
    "            'title': 'undefined',\n",
    "            'description': 'undefined',\n",
    "            'claim_reviewed': 'undefined',\n",
    "            'type': 'undefined',\n",
    "            'label': 'undefined',\n",
    "            'date': 'undefined'\n",
    "        }\n",
    "        accounts_list = []\n",
    "\n",
    "        # TITLE\n",
    "        title_tag = soup.find('div', class_=\"blog--article_title\")\n",
    "        if title_tag:\n",
    "            news_info['title'] = title_tag.text.strip()\n",
    "        else:\n",
    "            error_log_file.write(f\"[TITLE_ERROR] {news_id}\\n\")\n",
    "            return None, None  # Skip news\n",
    "\n",
    "        # DESCRIPTION\n",
    "        try:\n",
    "            outer_div = soup.find('div', class_=\"deep-dive--article_story\")\n",
    "            news_info['description'] = outer_div.find('div', class_=\"section-text\").text.strip()\n",
    "        except:\n",
    "            pass  # Don't log, just ignore\n",
    "\n",
    "        # LABEL\n",
    "        label_tag = soup.find('div', class_=\"deep-dive--article_classification\")\n",
    "        if label_tag:\n",
    "            news_info['label'] = label_tag.text.strip()\n",
    "        else:\n",
    "            error_log_file.write(f\"[LABEL_ERROR] {news_id}\\n\")\n",
    "            return None, None  # Skip news\n",
    "\n",
    "        # JSON meta (ld+json)\n",
    "        try:\n",
    "            json_string = soup.find('script', type='application/ld+json').text\n",
    "            meta_info = json.loads(json_string)\n",
    "            news_info['date'] = meta_info.get(\"datePublished\", \"\")[:10]\n",
    "            news_info['claim_reviewed'] = meta_info.get(\"claimReviewed\", 'undefined')\n",
    "            if not news_info['date']:\n",
    "                error_log_file.write(f\"[DATE_ERROR] {news_id}\\n\")\n",
    "                return None, None  # Skip news\n",
    "        except:\n",
    "            error_log_file.write(f\"[DATE_ERROR] {news_id}\\n\")\n",
    "            return None, None  # Skip news\n",
    "\n",
    "        # SUBSECTION (type)\n",
    "        try:\n",
    "            uncleaned_string = '\"\"\"' + soup.find('script', id=\"dataLayerScript\").text + '\"\"\"'\n",
    "            pattern = r\"\\{([^}]*)\\}\"\n",
    "            extracted_content = re.findall(pattern, uncleaned_string)[0]\n",
    "            json_string = '{' + extracted_content.replace(\"'\", '\"') + '}'\n",
    "            data = json.loads(json_string)\n",
    "            news_info['type'] = data.get(\"subsection\", 'undefined')\n",
    "        except:\n",
    "            pass  # Don't log\n",
    "\n",
    "        # ACCOUNTS\n",
    "        try:\n",
    "            accounts_div = soup.find('div', class_=\"deep-dive--article_posted-on\")\n",
    "            a_tags = accounts_div.find_all('a')\n",
    "            for a in a_tags:\n",
    "                account = a['href']\n",
    "                accounts_list.append({'news_id': news_id, 'accounts': account})\n",
    "        except:\n",
    "            pass  # Don't log\n",
    "\n",
    "        return news_info, accounts_list\n",
    "\n",
    "    except Exception as e:\n",
    "        error_log_file.write(f\"[GENERAL_ERROR] {news_id}: {str(e)}\\n\")\n",
    "        return None, None  # Skip news on any major error\n"
   ]
  },
  {
   "cell_type": "markdown",
   "id": "1aeb7f61",
   "metadata": {},
   "source": [
    "Scrape all news in urls_df file"
   ]
  },
  {
   "cell_type": "code",
   "execution_count": 15,
   "id": "1ad40983",
   "metadata": {},
   "outputs": [
    {
     "name": "stdout",
     "output_type": "stream",
     "text": [
      "Done from scraping news with id = 1\n",
      "\n",
      "Done from scraping news with id = 2\n",
      "\n",
      "Done from scraping news with id = 3\n",
      "\n",
      "Done from scraping news with id = 4\n",
      "\n",
      "Done from scraping news with id = 5\n",
      "\n",
      "Done from scraping news with id = 6\n",
      "\n",
      "Done from scraping news with id = 7\n",
      "\n",
      "Done from scraping news with id = 8\n",
      "\n",
      "Done from scraping news with id = 9\n",
      "\n",
      "Done from scraping news with id = 10\n",
      "\n",
      "Done from scraping news with id = 11\n",
      "\n",
      "Done from scraping news with id = 12\n",
      "\n",
      "Done from scraping news with id = 13\n",
      "\n",
      "Done from scraping news with id = 14\n",
      "\n",
      "Done from scraping news with id = 15\n",
      "\n",
      "Done from scraping news with id = 16\n",
      "\n",
      "Done from scraping news with id = 17\n",
      "\n",
      "Done from scraping news with id = 18\n",
      "\n",
      "Done from scraping news with id = 19\n",
      "\n",
      "Done from scraping news with id = 20\n",
      "\n",
      "Done from scraping news with id = 21\n",
      "\n",
      "Done from scraping news with id = 22\n",
      "\n",
      "Done from scraping news with id = 23\n",
      "\n",
      "Done from scraping news with id = 24\n",
      "\n",
      "Done from scraping news with id = 25\n",
      "\n",
      "Done from scraping news with id = 26\n",
      "\n",
      "Done from scraping news with id = 27\n",
      "\n",
      "Done from scraping news with id = 28\n",
      "\n",
      "Done from scraping news with id = 29\n",
      "\n",
      "Done from scraping news with id = 31\n",
      "\n",
      "Done from scraping news with id = 32\n",
      "\n",
      "Done from scraping news with id = 33\n",
      "\n",
      "Done from scraping news with id = 34\n",
      "\n",
      "Done from scraping news with id = 35\n",
      "\n",
      "Done from scraping news with id = 36\n",
      "\n",
      "Done from scraping news with id = 37\n",
      "\n",
      "Done from scraping news with id = 39\n",
      "\n",
      "Done from scraping news with id = 40\n",
      "\n",
      "Done from scraping news with id = 41\n",
      "\n",
      "Done from scraping news with id = 42\n",
      "\n",
      "Done from scraping news with id = 43\n",
      "\n",
      "Done from scraping news with id = 44\n",
      "\n",
      "Done from scraping news with id = 45\n",
      "\n",
      "Done from scraping news with id = 46\n",
      "\n",
      "Done from scraping news with id = 48\n",
      "\n",
      "Done from scraping news with id = 49\n",
      "\n",
      "Done from scraping news with id = 50\n",
      "\n",
      "Done from scraping news with id = 51\n",
      "\n",
      "Done from scraping news with id = 52\n",
      "\n",
      "Done from scraping news with id = 54\n",
      "\n",
      "Done from scraping news with id = 55\n",
      "\n",
      "Done from scraping news with id = 56\n",
      "\n",
      "Done from scraping news with id = 57\n",
      "\n",
      "Done from scraping news with id = 58\n",
      "\n",
      "Done from scraping news with id = 59\n",
      "\n",
      "Done from scraping news with id = 60\n",
      "\n",
      "Done from scraping news with id = 61\n",
      "\n",
      "Done from scraping news with id = 62\n",
      "\n",
      "Done from scraping news with id = 63\n",
      "\n"
     ]
    }
   ],
   "source": [
    "all_news_info = []\n",
    "all_accounts = []\n",
    "\n",
    "with open(\"error_log.txt\", \"a\", encoding=\"utf-8\") as error_log_file:\n",
    "    for i, row in urls_df.iterrows():\n",
    "        news_info, accounts_list = scrape_news(row['news_id'], row[\"news_url\"], error_log_file)\n",
    "\n",
    "        if news_info and accounts_list is not None:\n",
    "            all_news_info.append(news_info)\n",
    "            all_accounts.extend(accounts_list)\n",
    "            print(f\"Done from scraping news with id = {row['news_id']}\\n\")\n",
    "            \n",
    "            time.sleep(5)\n"
   ]
  },
  {
   "cell_type": "code",
   "execution_count": 19,
   "id": "cabd02c3",
   "metadata": {},
   "outputs": [
    {
     "name": "stdout",
     "output_type": "stream",
     "text": [
      "number of scraped news =  59\n",
      "number of accounts collected =  314\n"
     ]
    }
   ],
   "source": [
    "# Dataframe contains news info\n",
    "news_df = pd.DataFrame(all_news_info)\n",
    "accounts_df = pd.DataFrame(all_accounts)\n",
    "\n",
    "print(\"number of scraped news = \",news_df.shape[0])\n",
    "print(\"number of accounts collected = \",accounts_df.shape[0])"
   ]
  },
  {
   "cell_type": "code",
   "execution_count": 21,
   "id": "f30add17",
   "metadata": {},
   "outputs": [
    {
     "data": {
      "text/html": [
       "<div>\n",
       "<style scoped>\n",
       "    .dataframe tbody tr th:only-of-type {\n",
       "        vertical-align: middle;\n",
       "    }\n",
       "\n",
       "    .dataframe tbody tr th {\n",
       "        vertical-align: top;\n",
       "    }\n",
       "\n",
       "    .dataframe thead th {\n",
       "        text-align: right;\n",
       "    }\n",
       "</style>\n",
       "<table border=\"1\" class=\"dataframe\">\n",
       "  <thead>\n",
       "    <tr style=\"text-align: right;\">\n",
       "      <th></th>\n",
       "      <th>news_id</th>\n",
       "      <th>title</th>\n",
       "      <th>description</th>\n",
       "      <th>claim_reviewed</th>\n",
       "      <th>type</th>\n",
       "      <th>label</th>\n",
       "      <th>date</th>\n",
       "    </tr>\n",
       "  </thead>\n",
       "  <tbody>\n",
       "    <tr>\n",
       "      <th>0</th>\n",
       "      <td>1</td>\n",
       "      <td>الفيديو قديم وليس لمظاهرة سياسية نُظمت خلال اح...</td>\n",
       "      <td>مقطع فيديو نشرته حسابات وصفحات على مواقع التوا...</td>\n",
       "      <td>فيديو لحشود في السودان خرجت تحتفل بالمولد النب...</td>\n",
       "      <td>سياسة</td>\n",
       "      <td>مضلل</td>\n",
       "      <td>2025-08-28</td>\n",
       "    </tr>\n",
       "    <tr>\n",
       "      <th>1</th>\n",
       "      <td>2</td>\n",
       "      <td>الفيديو ليس لمرتزق كولومبي يقاتل في صفوف الدعم...</td>\n",
       "      <td>مقطع فيديو متداول عبر حسابات وصفحات على مواقع ...</td>\n",
       "      <td>مقطع فيديو متداول على أنه يُظهر مرتزقًا كولومب...</td>\n",
       "      <td>أخبار</td>\n",
       "      <td>مضلل</td>\n",
       "      <td>2025-08-26</td>\n",
       "    </tr>\n",
       "    <tr>\n",
       "      <th>2</th>\n",
       "      <td>3</td>\n",
       "      <td>الفيديو ليس لمرتزقة كولومبيين يشاركون في معارك...</td>\n",
       "      <td>مقطع فيديو نشرته حسابات وصفحات على مواقع التوا...</td>\n",
       "      <td>فيديو يُظهر مرتزقة من دولة كولومبيا يقاتلون مع...</td>\n",
       "      <td>أخبار</td>\n",
       "      <td>مضلل</td>\n",
       "      <td>2025-08-23</td>\n",
       "    </tr>\n",
       "    <tr>\n",
       "      <th>3</th>\n",
       "      <td>4</td>\n",
       "      <td>الفيديو ليس لمرتزقة كولومبيين يقاتلون في صفوف ...</td>\n",
       "      <td>مقطع فيديو متداول، حديثًا، ادعي ناشروه أنه لمر...</td>\n",
       "      <td>مرتزقة كولومبيون يقاتلون في صفوف الدعم السريع ...</td>\n",
       "      <td>أخبار</td>\n",
       "      <td>مضلل</td>\n",
       "      <td>2025-08-19</td>\n",
       "    </tr>\n",
       "    <tr>\n",
       "      <th>4</th>\n",
       "      <td>5</td>\n",
       "      <td>الصورة من استهداف إسرائيلي في مطار صنعاء وليست...</td>\n",
       "      <td>صورة متداولة حديثًا على موقعي فيسبوك وإكس، ادع...</td>\n",
       "      <td>صورة توثق تدمير سلاح الجو السوداني طائرة عسكري...</td>\n",
       "      <td>أخبار</td>\n",
       "      <td>مضلل</td>\n",
       "      <td>2025-08-07</td>\n",
       "    </tr>\n",
       "  </tbody>\n",
       "</table>\n",
       "</div>"
      ],
      "text/plain": [
       "   news_id                                              title  \\\n",
       "0        1  الفيديو قديم وليس لمظاهرة سياسية نُظمت خلال اح...   \n",
       "1        2  الفيديو ليس لمرتزق كولومبي يقاتل في صفوف الدعم...   \n",
       "2        3  الفيديو ليس لمرتزقة كولومبيين يشاركون في معارك...   \n",
       "3        4  الفيديو ليس لمرتزقة كولومبيين يقاتلون في صفوف ...   \n",
       "4        5  الصورة من استهداف إسرائيلي في مطار صنعاء وليست...   \n",
       "\n",
       "                                         description  \\\n",
       "0  مقطع فيديو نشرته حسابات وصفحات على مواقع التوا...   \n",
       "1  مقطع فيديو متداول عبر حسابات وصفحات على مواقع ...   \n",
       "2  مقطع فيديو نشرته حسابات وصفحات على مواقع التوا...   \n",
       "3  مقطع فيديو متداول، حديثًا، ادعي ناشروه أنه لمر...   \n",
       "4  صورة متداولة حديثًا على موقعي فيسبوك وإكس، ادع...   \n",
       "\n",
       "                                      claim_reviewed   type label        date  \n",
       "0  فيديو لحشود في السودان خرجت تحتفل بالمولد النب...  سياسة  مضلل  2025-08-28  \n",
       "1  مقطع فيديو متداول على أنه يُظهر مرتزقًا كولومب...  أخبار  مضلل  2025-08-26  \n",
       "2  فيديو يُظهر مرتزقة من دولة كولومبيا يقاتلون مع...  أخبار  مضلل  2025-08-23  \n",
       "3  مرتزقة كولومبيون يقاتلون في صفوف الدعم السريع ...  أخبار  مضلل  2025-08-19  \n",
       "4  صورة توثق تدمير سلاح الجو السوداني طائرة عسكري...  أخبار  مضلل  2025-08-07  "
      ]
     },
     "execution_count": 21,
     "metadata": {},
     "output_type": "execute_result"
    }
   ],
   "source": [
    "#showing first row on news_df\n",
    "news_df.head()"
   ]
  },
  {
   "cell_type": "code",
   "execution_count": 24,
   "id": "7efcb1a9",
   "metadata": {},
   "outputs": [
    {
     "data": {
      "text/html": [
       "<div>\n",
       "<style scoped>\n",
       "    .dataframe tbody tr th:only-of-type {\n",
       "        vertical-align: middle;\n",
       "    }\n",
       "\n",
       "    .dataframe tbody tr th {\n",
       "        vertical-align: top;\n",
       "    }\n",
       "\n",
       "    .dataframe thead th {\n",
       "        text-align: right;\n",
       "    }\n",
       "</style>\n",
       "<table border=\"1\" class=\"dataframe\">\n",
       "  <thead>\n",
       "    <tr style=\"text-align: right;\">\n",
       "      <th></th>\n",
       "      <th>news_id</th>\n",
       "      <th>accounts</th>\n",
       "    </tr>\n",
       "  </thead>\n",
       "  <tbody>\n",
       "    <tr>\n",
       "      <th>0</th>\n",
       "      <td>1</td>\n",
       "      <td>https://www.facebook.com/reel/1303881981474509</td>\n",
       "    </tr>\n",
       "    <tr>\n",
       "      <th>1</th>\n",
       "      <td>1</td>\n",
       "      <td>https://x.com/Dr_AmeenMakki/status/19600442747...</td>\n",
       "    </tr>\n",
       "    <tr>\n",
       "      <th>2</th>\n",
       "      <td>1</td>\n",
       "      <td>https://www.facebook.com/100066322586674/video...</td>\n",
       "    </tr>\n",
       "    <tr>\n",
       "      <th>3</th>\n",
       "      <td>1</td>\n",
       "      <td>https://www.facebook.com/reel/613876958265329</td>\n",
       "    </tr>\n",
       "    <tr>\n",
       "      <th>4</th>\n",
       "      <td>1</td>\n",
       "      <td>https://www.facebook.com/reel/760527776622792</td>\n",
       "    </tr>\n",
       "  </tbody>\n",
       "</table>\n",
       "</div>"
      ],
      "text/plain": [
       "   news_id                                           accounts\n",
       "0        1     https://www.facebook.com/reel/1303881981474509\n",
       "1        1  https://x.com/Dr_AmeenMakki/status/19600442747...\n",
       "2        1  https://www.facebook.com/100066322586674/video...\n",
       "3        1      https://www.facebook.com/reel/613876958265329\n",
       "4        1      https://www.facebook.com/reel/760527776622792"
      ]
     },
     "execution_count": 24,
     "metadata": {},
     "output_type": "execute_result"
    }
   ],
   "source": [
    "#showing first rows on accounts_df\n",
    "accounts_df.head()"
   ]
  },
  {
   "cell_type": "code",
   "execution_count": 27,
   "id": "9a431156",
   "metadata": {},
   "outputs": [],
   "source": [
    "# function returns number of undefined values in a specific column\n",
    "\n",
    "def count_undefined(column):\n",
    "    vec = np.where(column == 'undefined')\n",
    "    count = np.sum(vec)\n",
    "    return(count)"
   ]
  },
  {
   "cell_type": "code",
   "execution_count": 34,
   "id": "5e7f0915",
   "metadata": {},
   "outputs": [
    {
     "name": "stdout",
     "output_type": "stream",
     "text": [
      "number of undefined values in news_id column =  0\n",
      "number of undefined values in title column =  0\n",
      "number of undefined values in description column =  0\n",
      "number of undefined values in claim_reviewed column =  0\n",
      "number of undefined values in type column =  0\n",
      "number of undefined values in label column =  0\n",
      "number of undefined values in date column =  0\n"
     ]
    }
   ],
   "source": [
    "columns_names = news_df.columns\n",
    "for column in columns_names:\n",
    "    print(f'number of undefined values in {column} column = ',count_undefined(news_df[column]))"
   ]
  },
  {
   "cell_type": "markdown",
   "id": "3aba7f58",
   "metadata": {},
   "source": [
    "## Saving news info and accounts"
   ]
  },
  {
   "cell_type": "code",
   "execution_count": 36,
   "id": "c2b21154",
   "metadata": {},
   "outputs": [],
   "source": [
    "news_df.to_csv(\"news_info_Misbar.csv\",encoding=\"utf-8-sig\",index=False)\n",
    "accounts_df.to_csv(\"accounts_Misbar.csv\",encoding=\"utf-8-sig\",index=False)"
   ]
  },
  {
   "cell_type": "markdown",
   "id": "ec6f3c8f",
   "metadata": {},
   "source": [
    "## investegate news in error log file"
   ]
  },
  {
   "cell_type": "code",
   "execution_count": 43,
   "id": "908828db",
   "metadata": {},
   "outputs": [],
   "source": [
    "err_arr = np.loadtxt(\"error_log.txt\",delimiter=' ',dtype=str)"
   ]
  },
  {
   "cell_type": "code",
   "execution_count": 54,
   "id": "55c84445",
   "metadata": {},
   "outputs": [
    {
     "name": "stdout",
     "output_type": "stream",
     "text": [
      "types of errors are : ['[LABEL_ERROR]']\n",
      "news_id with errors : [30 38 47 53]\n"
     ]
    }
   ],
   "source": [
    "err_news_id = err_arr[:,1].astype(int)\n",
    "err_labels = np.unique(err_arr[:,0])\n",
    "print(f'types of errors are : {err_labels}')\n",
    "print(f'news_id with errors : {err_news_id}')"
   ]
  },
  {
   "cell_type": "code",
   "execution_count": 62,
   "id": "86ea927e",
   "metadata": {},
   "outputs": [
    {
     "name": "stdout",
     "output_type": "stream",
     "text": [
      "news_id 30\n",
      "url :  https://www.misbar.com/editorial/2025/03/16/%D8%A3%D8%AB%D8%B1-%D8%A7%D9%84%D8%AA%D8%B6%D9%84%D9%8A%D9%84-%D8%A7%D9%84%D9%85%D8%B9%D9%84%D9%88%D9%85%D8%A7%D8%AA%D9%8A-%D9%88%D8%A7%D9%84%D8%AA%D8%B2%D9%8A%D9%8A%D9%81-%D8%A7%D9%84%D8%B9%D9%85%D9%8A%D9%82-%D8%B9%D9%84%D9%89-%D8%AD%D9%8A%D8%A7%D8%A9-%D8%A7%D9%84%D8%B3%D9%88%D8%AF%D8%A7%D9%86%D9%8A%D9%8A%D9%86-%D8%A3%D8%AB%D9%86%D8%A7%D8%A1-%D8%A7%D9%84%D8%AD%D8%B1%D8%A8\n",
      "news_id 38\n",
      "url :  https://www.misbar.com/editorial/2025/01/29/%D8%A3%D8%A8%D8%B1%D8%B2-%D8%A7%D9%84%D8%A7%D8%AF%D8%B9%D8%A7%D8%A1%D8%A7%D8%AA-%D8%A7%D9%84%D9%85%D8%B6%D9%84%D9%84%D8%A9-%D8%B9%D9%86-%D8%A7%D9%84%D8%A7%D8%B4%D8%AA%D8%A8%D8%A7%D9%83%D8%A7%D8%AA-%D8%A7%D9%84%D8%AC%D8%A7%D8%B1%D9%8A%D8%A9-%D9%81%D9%8A-%D8%A7%D9%84%D8%B3%D9%88%D8%AF%D8%A7%D9%86\n",
      "news_id 47\n",
      "url :  https://www.misbar.com/editorial/2023/05/01/%D9%85%D8%A4%D8%B4%D8%B1-%D9%85%D8%B3%D8%A8%D8%A7%D8%B1-%D9%84%D8%A3%D8%A8%D8%B1%D8%B2-%D8%A7%D9%84%D8%A3%D8%AE%D8%A8%D8%A7%D8%B1-%D8%A7%D9%84%D8%B2%D8%A7%D8%A6%D9%81%D8%A9-%D9%81%D9%8A-%D8%B4%D9%87%D8%B1-%D8%A5%D8%A8%D8%B1%D9%8A%D9%84-2023\n",
      "news_id 53\n",
      "url :  https://www.misbar.com/editorial/2023/04/25/%D8%AA%D8%AD%D9%84%D9%8A%D9%84-%D8%AD%D8%B3%D8%A7%D8%A8%D8%A7%D8%AA-%D8%A2%D9%84%D9%8A%D8%A9-%D9%82%D8%A7%D8%AF%D8%AA-%D8%A7%D9%84%D8%AA%D9%81%D8%A7%D8%B9%D9%84-%D8%B9%D9%84-%D9%88%D8%B3%D9%85-%D9%85%D8%B7%D8%A7%D8%B1-%D9%85%D8%B1%D9%88%D9%8A-%D9%81%D9%8A-%D8%AA%D9%88%D9%8A%D8%AA%D8%B1\n"
     ]
    }
   ],
   "source": [
    "# find urls of news with no label \n",
    "condtion = urls_df['news_id'].isin(err_news_id)\n",
    "err_df = urls_df[condtion]\n",
    "num_err_news = np.sum(condtion)\n",
    "\n",
    "for i in range(num_err_news):\n",
    "    print('news_id',err_df['news_id'].iloc[i])\n",
    "    print('url : ',err_df['news_url'].iloc[i])"
   ]
  },
  {
   "cell_type": "markdown",
   "id": "d49055b0",
   "metadata": {},
   "source": [
    "They are articles investigating the situation in sudan but not a specific news"
   ]
  },
  {
   "cell_type": "code",
   "execution_count": 64,
   "id": "5ef79ccb",
   "metadata": {},
   "outputs": [],
   "source": [
    "# save them in a separate file\n",
    "err_df.to_csv(\"news_no_labels.csv\",index=False)"
   ]
  },
  {
   "cell_type": "markdown",
   "id": "d028afac",
   "metadata": {},
   "source": [
    "Done."
   ]
  },
  {
   "cell_type": "code",
   "execution_count": null,
   "id": "326076e1",
   "metadata": {},
   "outputs": [],
   "source": []
  }
 ],
 "metadata": {
  "kernelspec": {
   "display_name": "Python 3 (ipykernel)",
   "language": "python",
   "name": "python3"
  },
  "language_info": {
   "codemirror_mode": {
    "name": "ipython",
    "version": 3
   },
   "file_extension": ".py",
   "mimetype": "text/x-python",
   "name": "python",
   "nbconvert_exporter": "python",
   "pygments_lexer": "ipython3",
   "version": "3.10.11"
  }
 },
 "nbformat": 4,
 "nbformat_minor": 5
}
